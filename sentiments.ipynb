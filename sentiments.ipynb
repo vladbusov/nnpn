{
 "cells": [
  {
   "cell_type": "markdown",
   "metadata": {},
   "source": [
    "# Imports"
   ]
  },
  {
   "cell_type": "code",
   "execution_count": 1,
   "metadata": {
    "collapsed": true,
    "scrolled": true
   },
   "outputs": [],
   "source": [
    "import pandas as pd #математика\n",
    "import numpy as np #матрицы\n",
    "import tensorflow as tf #нейросети\n",
    "import tflearn #обучение сетей\n",
    "import re #регулярные выражения\n",
    "\n",
    "from collections import Counter #создавать коллекции уникальных штук каких-то, пронумерованный словарь\n",
    "from sklearn.model_selection import train_test_split #разделить тренировочные данные и тестовые наборы\n",
    "from tflearn.data_utils import to_categorical #конвертировать из класса вектора в класс матрицы бинарной\n",
    "from nltk.stem.snowball import RussianStemmer # русские стебли слов\n",
    "from nltk.tokenize import TweetTokenizer # разбивать твит на слова"
   ]
  },
  {
   "cell_type": "markdown",
   "metadata": {},
   "source": [
    "# Constants"
   ]
  },
  {
   "cell_type": "code",
   "execution_count": 2,
   "metadata": {
    "collapsed": true
   },
   "outputs": [],
   "source": [
    "POSITIVE_TWEETS_CSV = 'positive.csv' #имя файла с позитивными твитами\n",
    "NEGATIVE_TWEETS_CSV = 'negative.csv' #имя файла с негативными твитами\n",
    "\n",
    "VOCAB_SIZE = 1000 # размер словаря для тренировки"
   ]
  },
  {
   "cell_type": "markdown",
   "metadata": {},
   "source": [
    "# Load data"
   ]
  },
  {
   "cell_type": "code",
   "execution_count": 3,
   "metadata": {
    "collapsed": true
   },
   "outputs": [],
   "source": [
    "tweets_col_number = 3 #столбец с самими твитами (в данном случае третий)\n",
    "\n",
    "negative_tweets = pd.read_csv(\n",
    "    'negative.csv', header=None, delimiter=';')[[tweets_col_number]] #читаем таблицу негативных твитов\n",
    "positive_tweets = pd.read_csv(\n",
    "    'positive.csv', header=None, delimiter=';')[[tweets_col_number]] #читаем таблицу позитивных твитов"
   ]
  },
  {
   "cell_type": "markdown",
   "metadata": {},
   "source": [
    "# Stemmer"
   ]
  },
  {
   "cell_type": "code",
   "execution_count": 4,
   "metadata": {
    "collapsed": true
   },
   "outputs": [],
   "source": [
    "stemer = RussianStemmer() #переопределяем библиотеку на другое имя\n",
    "regex = re.compile('[^а-яА-Я ]') #регулярное выражение для кириллицы\n",
    "stem_cache = {} #пустой словарь кеша слов-стебелей\n",
    "\n",
    "def get_stem(token): #взятие стебля\n",
    "    stem = stem_cache.get(token, None) #есть ли стебель в кеше (ключ:значение слово:стебель)\n",
    "    if stem: #если есть\n",
    "        return stem #возвращаем его\n",
    "    token = regex.sub('', token).lower() #применяем регулярное выражение, отбираем тилько кириллицу\n",
    "    stem = stemer.stem(token) #берем стебель слова\n",
    "    stem_cache[token] = stem #кешируем его\n",
    "    return stem #возвращаем стебель"
   ]
  },
  {
   "cell_type": "markdown",
   "metadata": {},
   "source": [
    "# Vocabulary creation"
   ]
  },
  {
   "cell_type": "code",
   "execution_count": 5,
   "metadata": {
    "collapsed": true
   },
   "outputs": [],
   "source": [
    "stem_count = Counter() # словарь-счетчик / меняем имя библиотеки\n",
    "tokenizer = TweetTokenizer() # разбить твитер / меняем имя библиотеки\n",
    "\n",
    "def count_unique_tokens_in_tweets(tweets): #считаем одинаковые слова в твитах\n",
    "    for _, tweet_series in tweets.iterrows():  #для каждого твита построчно\n",
    "        tweet = tweet_series[3] # в третьем столбце (убираем цифру 3 из столбца)\n",
    "        tokens = tokenizer.tokenize(tweet) #разбиваем твит на слова\n",
    "        for token in tokens: #для каждого слова в списке слов\n",
    "            stem = get_stem(token) #находим стебель\n",
    "            stem_count[stem] += 1 #заносим в словарь с подсчетом каждого стебля\n",
    "\n",
    "count_unique_tokens_in_tweets(negative_tweets) #читаем негативные твиты\n",
    "count_unique_tokens_in_tweets(positive_tweets) #читаем позитивные твиты"
   ]
  },
  {
   "cell_type": "code",
   "execution_count": 6,
   "metadata": {},
   "outputs": [
    {
     "name": "stdout",
     "output_type": "stream",
     "text": [
      "Total unique stems found:  91780\n"
     ]
    }
   ],
   "source": [
    "print(\"Total unique stems found: \", len(stem_count)) #сколько всего уникальных слов было прочитанно"
   ]
  },
  {
   "cell_type": "code",
   "execution_count": 7,
   "metadata": {},
   "outputs": [
    {
     "name": "stdout",
     "output_type": "stream",
     "text": [
      "['', 'не', 'я', 'и', 'в', 'на', 'а', 'что', 'так', 'с', 'эт', 'как', 'у', 'мен', 'мне', 'все', 'но', 'он', 'ты', 'теб', 'ну', 'мо', 'то', 'уж', 'по', 'был', 'ещ', 'за', 'да', 'вот', 'же', 'тольк', 'нет', 'сегодн', 'о', 'прост', 'бы', 'над', 'когд', 'хоч', 'очен', 'к', 'сам', 'ден', 'будет', 'мы', 'от', 'хорош', 'из', 'есл', 'тепер', 'тож', 'буд', 'сво', 'год', 'даж', 'завтр', 'нов', 'дом', 'до', 'там', 'ест', 'вообщ', 'ег', 'вс', 'дела', 'пот', 'одн', 'для', 'больш', 'хот', 'спасиб', 'мог', 'сейчас', 'е', 'себ', 'нас', 'блин', 'раз', 'кто', 'дума', 'утр', 'котор', 'любл', 'поч', 'зна', 'говор', 'лучш', 'нич', 'ил', 'без', 'вы', 'друг', 'тут', 'чтоб', 'всем', 'бол', 'люд', 'сдела', 'сказа']\n"
     ]
    }
   ],
   "source": [
    "vocab = sorted(stem_count, key=stem_count.get, reverse=True)[:VOCAB_SIZE] #список\n",
    "'''сортируем словарь по количеству слов и ограничеваем его размер до указанного VOCAB_SIZE '''\n",
    "print(vocab[:100]) #печатаем 100 из них"
   ]
  },
  {
   "cell_type": "code",
   "execution_count": 8,
   "metadata": {},
   "outputs": [
    {
     "name": "stdout",
     "output_type": "stream",
     "text": [
      "stem: я, count: 66045\n"
     ]
    },
    {
     "data": {
      "text/plain": [
       "'\\nВыводим стебель и его количество упоминаний\\n'"
      ]
     },
     "execution_count": 8,
     "metadata": {},
     "output_type": "execute_result"
    }
   ],
   "source": [
    "idx = 2 # второе место\n",
    "print(\"stem: {}, count: {}\"\n",
    "      .format(vocab[idx], stem_count.get(vocab[idx]))) #второй по распространенности стебель-'я'\n",
    "'''\n",
    "Выводим стебель и его количество упоминаний\n",
    "'''"
   ]
  },
  {
   "cell_type": "code",
   "execution_count": 9,
   "metadata": {},
   "outputs": [
    {
     "name": "stdout",
     "output_type": "stream",
     "text": [
      "<generator object <genexpr> at 0x7f0fbe7ba728>\n"
     ]
    },
    {
     "data": {
      "text/plain": [
       "1000"
      ]
     },
     "execution_count": 9,
     "metadata": {},
     "output_type": "execute_result"
    }
   ],
   "source": [
    "token_2_idx = {vocab[i] : i for i in range(VOCAB_SIZE)} # нумеруем слова в списке слов\n",
    "len(token_2_idx) #длина словаря"
   ]
  },
  {
   "cell_type": "code",
   "execution_count": 10,
   "metadata": {},
   "outputs": [
    {
     "data": {
      "text/plain": [
       "99"
      ]
     },
     "execution_count": 10,
     "metadata": {},
     "output_type": "execute_result"
    }
   ],
   "source": [
    "token_2_idx['сказа'] # номер слова"
   ]
  },
  {
   "cell_type": "code",
   "execution_count": 11,
   "metadata": {
    "collapsed": true
   },
   "outputs": [],
   "source": [
    "def tweet_to_vector(tweet, show_unknowns=False): #твит в вектор перевод\n",
    "    vector = np.zeros(VOCAB_SIZE, dtype=np.int_) # заполняем матрицу np нулями интовыми\n",
    "    for token in tokenizer.tokenize(tweet): # для каждого слова в твите\n",
    "        stem = get_stem(token) #берем стебель слова\n",
    "        idx = token_2_idx.get(stem, None) #берем id данного стебля\n",
    "        if idx is not None: #если id есть\n",
    "            vector[idx] = 1 #то единичка в вектор\n",
    "        elif show_unknowns: #в другом случае написать что программа не знает таких слов\n",
    "            print(\"Unknown token: {}\".format(token))\n",
    "    return vector # возвращаем вектор"
   ]
  },
  {
   "cell_type": "code",
   "execution_count": 12,
   "metadata": {},
   "outputs": [
    {
     "name": "stdout",
     "output_type": "stream",
     "text": [
      "tweet: на работе был полный пиддес :| и так каждое закрытие месяца, я же свихнусь так D:\n",
      "vector: [1 0 1 1 0 1 0 0 1 0]\n",
      "на\n"
     ]
    }
   ],
   "source": [
    "tweet = negative_tweets.iloc[0][3] #cамый первый твит\n",
    "print(\"tweet: {}\".format(tweet)) #выводим этот твит\n",
    "print(\"vector: {}\".format(tweet_to_vector(tweet)[:10])) #переводим первый твит в вектор\n",
    "print(vocab[5]) #выводим шестое слово в словаре"
   ]
  },
  {
   "cell_type": "markdown",
   "metadata": {},
   "source": [
    "# Converting Tweets to vectors"
   ]
  },
  {
   "cell_type": "code",
   "execution_count": 13,
   "metadata": {},
   "outputs": [],
   "source": [
    "tweet_vectors = np.zeros(\n",
    "    (len(negative_tweets) + len(positive_tweets), VOCAB_SIZE), #матрица размеров кол-во_твитов х размер словаря\n",
    "    dtype=np.int_) #интовая матрица\n",
    "tweets = [] #объявляем список твитов\n",
    "for ii, (_, tweet) in enumerate(negative_tweets.iterrows()): # ii-(_(столбец), tweet)счетчик-элементов\n",
    "    tweets.append(tweet[3]) #добавляем твит в таблицу твитов\n",
    "    tweet_vectors[ii] = tweet_to_vector(tweet[3]) #добавляем твит в таблицу векторов\n",
    "for ii, (_, tweet) in enumerate(positive_tweets.iterrows()): #тоже самое для положительных твитов\n",
    "    tweets.append(tweet[3])\n",
    "    tweet_vectors[ii + len(negative_tweets)] = tweet_to_vector(tweet[3])"
   ]
  },
  {
   "cell_type": "markdown",
   "metadata": {},
   "source": [
    "# Preparing labels"
   ]
  },
  {
   "cell_type": "code",
   "execution_count": 14,
   "metadata": {
    "collapsed": true
   },
   "outputs": [],
   "source": [
    "labels = np.append(\n",
    "    np.zeros(len(negative_tweets), dtype=np.int_), #матрица заполненная нулями размером под твиты \n",
    "    np.ones(len(positive_tweets), dtype=np.int_)) #матрица заполненная единицами под твиты"
   ]
  },
  {
   "cell_type": "code",
   "execution_count": 15,
   "metadata": {},
   "outputs": [
    {
     "data": {
      "text/plain": [
       "array([0, 0, 0, 0, 0, 0, 0, 0, 0, 0])"
      ]
     },
     "execution_count": 15,
     "metadata": {},
     "output_type": "execute_result"
    }
   ],
   "source": [
    "labels[:10] # первые 10"
   ]
  },
  {
   "cell_type": "code",
   "execution_count": 16,
   "metadata": {},
   "outputs": [
    {
     "data": {
      "text/plain": [
       "array([1, 1, 1, 1, 1, 1, 1, 1, 1, 1])"
      ]
     },
     "execution_count": 16,
     "metadata": {},
     "output_type": "execute_result"
    }
   ],
   "source": [
    "labels[-10:] # 10 c конца"
   ]
  },
  {
   "cell_type": "markdown",
   "metadata": {},
   "source": [
    "# Preparing the data for the training"
   ]
  },
  {
   "cell_type": "code",
   "execution_count": 17,
   "metadata": {},
   "outputs": [
    {
     "ename": "MemoryError",
     "evalue": "",
     "output_type": "error",
     "traceback": [
      "\u001b[0;31m---------------------------------------------------------------------------\u001b[0m",
      "\u001b[0;31mMemoryError\u001b[0m                               Traceback (most recent call last)",
      "\u001b[0;32m<ipython-input-17-7c158fea8d26>\u001b[0m in \u001b[0;36m<module>\u001b[0;34m()\u001b[0m\n\u001b[1;32m      1\u001b[0m \u001b[0mX\u001b[0m \u001b[0;34m=\u001b[0m \u001b[0mtweet_vectors\u001b[0m \u001b[0;31m#переназначаем твиты\u001b[0m\u001b[0;34m\u001b[0m\u001b[0m\n\u001b[1;32m      2\u001b[0m \u001b[0my\u001b[0m \u001b[0;34m=\u001b[0m \u001b[0mto_categorical\u001b[0m\u001b[0;34m(\u001b[0m\u001b[0mlabels\u001b[0m\u001b[0;34m,\u001b[0m \u001b[0;36m2\u001b[0m\u001b[0;34m)\u001b[0m \u001b[0;31m#бинарная матрица из 2 столбцов\u001b[0m\u001b[0;34m\u001b[0m\u001b[0m\n\u001b[0;32m----> 3\u001b[0;31m \u001b[0mX_train\u001b[0m\u001b[0;34m,\u001b[0m \u001b[0mX_test\u001b[0m\u001b[0;34m,\u001b[0m \u001b[0my_train\u001b[0m\u001b[0;34m,\u001b[0m \u001b[0my_test\u001b[0m \u001b[0;34m=\u001b[0m \u001b[0mtrain_test_split\u001b[0m\u001b[0;34m(\u001b[0m\u001b[0mX\u001b[0m\u001b[0;34m,\u001b[0m \u001b[0my\u001b[0m\u001b[0;34m,\u001b[0m \u001b[0mtest_size\u001b[0m\u001b[0;34m=\u001b[0m\u001b[0;36m0.3\u001b[0m\u001b[0;34m)\u001b[0m\u001b[0;34m\u001b[0m\u001b[0m\n\u001b[0m\u001b[1;32m      4\u001b[0m \u001b[0;34m'''разбиваем данные на тренировку и тест в пропорции 0.3'''\u001b[0m\u001b[0;34m\u001b[0m\u001b[0m\n",
      "\u001b[0;32m/usr/local/lib/python3.5/dist-packages/sklearn/model_selection/_split.py\u001b[0m in \u001b[0;36mtrain_test_split\u001b[0;34m(*arrays, **options)\u001b[0m\n\u001b[1;32m   2041\u001b[0m \u001b[0;34m\u001b[0m\u001b[0m\n\u001b[1;32m   2042\u001b[0m     return list(chain.from_iterable((safe_indexing(a, train),\n\u001b[0;32m-> 2043\u001b[0;31m                                      safe_indexing(a, test)) for a in arrays))\n\u001b[0m\u001b[1;32m   2044\u001b[0m \u001b[0;34m\u001b[0m\u001b[0m\n\u001b[1;32m   2045\u001b[0m \u001b[0;34m\u001b[0m\u001b[0m\n",
      "\u001b[0;32m/usr/local/lib/python3.5/dist-packages/sklearn/model_selection/_split.py\u001b[0m in \u001b[0;36m<genexpr>\u001b[0;34m(.0)\u001b[0m\n\u001b[1;32m   2041\u001b[0m \u001b[0;34m\u001b[0m\u001b[0m\n\u001b[1;32m   2042\u001b[0m     return list(chain.from_iterable((safe_indexing(a, train),\n\u001b[0;32m-> 2043\u001b[0;31m                                      safe_indexing(a, test)) for a in arrays))\n\u001b[0m\u001b[1;32m   2044\u001b[0m \u001b[0;34m\u001b[0m\u001b[0m\n\u001b[1;32m   2045\u001b[0m \u001b[0;34m\u001b[0m\u001b[0m\n",
      "\u001b[0;32m/usr/local/lib/python3.5/dist-packages/sklearn/utils/__init__.py\u001b[0m in \u001b[0;36msafe_indexing\u001b[0;34m(X, indices)\u001b[0m\n\u001b[1;32m    158\u001b[0m                                    indices.dtype.kind == 'i'):\n\u001b[1;32m    159\u001b[0m             \u001b[0;31m# This is often substantially faster than X[indices]\u001b[0m\u001b[0;34m\u001b[0m\u001b[0;34m\u001b[0m\u001b[0m\n\u001b[0;32m--> 160\u001b[0;31m             \u001b[0;32mreturn\u001b[0m \u001b[0mX\u001b[0m\u001b[0;34m.\u001b[0m\u001b[0mtake\u001b[0m\u001b[0;34m(\u001b[0m\u001b[0mindices\u001b[0m\u001b[0;34m,\u001b[0m \u001b[0maxis\u001b[0m\u001b[0;34m=\u001b[0m\u001b[0;36m0\u001b[0m\u001b[0;34m)\u001b[0m\u001b[0;34m\u001b[0m\u001b[0m\n\u001b[0m\u001b[1;32m    161\u001b[0m         \u001b[0;32melse\u001b[0m\u001b[0;34m:\u001b[0m\u001b[0;34m\u001b[0m\u001b[0m\n\u001b[1;32m    162\u001b[0m             \u001b[0;32mreturn\u001b[0m \u001b[0mX\u001b[0m\u001b[0;34m[\u001b[0m\u001b[0mindices\u001b[0m\u001b[0;34m]\u001b[0m\u001b[0;34m\u001b[0m\u001b[0m\n",
      "\u001b[0;31mMemoryError\u001b[0m: "
     ]
    }
   ],
   "source": [
    "X = tweet_vectors #переназначаем твиты\n",
    "y = to_categorical(labels, 2) #бинарная матрица из 2 столбцов\n",
    "X_train, X_test, y_train, y_test = train_test_split(X, y, test_size=0.3)\n",
    "'''разбиваем данные на тренировку и тест в пропорции 0.3'''"
   ]
  },
  {
   "cell_type": "code",
   "execution_count": 21,
   "metadata": {
    "scrolled": true
   },
   "outputs": [
    {
     "ename": "NameError",
     "evalue": "name 'y_test' is not defined",
     "output_type": "error",
     "traceback": [
      "\u001b[0;31m---------------------------------------------------------------------------\u001b[0m",
      "\u001b[0;31mNameError\u001b[0m                                 Traceback (most recent call last)",
      "\u001b[0;32m<ipython-input-21-55e58ccb4009>\u001b[0m in \u001b[0;36m<module>\u001b[0;34m()\u001b[0m\n\u001b[0;32m----> 1\u001b[0;31m \u001b[0mprint\u001b[0m\u001b[0;34m(\u001b[0m\u001b[0my_test\u001b[0m\u001b[0;34m[\u001b[0m\u001b[0;34m:\u001b[0m\u001b[0;36m10\u001b[0m\u001b[0;34m]\u001b[0m\u001b[0;34m)\u001b[0m\u001b[0;34m\u001b[0m\u001b[0m\n\u001b[0m",
      "\u001b[0;31mNameError\u001b[0m: name 'y_test' is not defined"
     ]
    }
   ],
   "source": [
    "print(y_test[:10])"
   ]
  },
  {
   "cell_type": "markdown",
   "metadata": {
    "collapsed": true
   },
   "source": [
    "# Building the NN"
   ]
  },
  {
   "cell_type": "code",
   "execution_count": 28,
   "metadata": {
    "collapsed": true
   },
   "outputs": [],
   "source": [
    "def build_model(learning_rate=0.1): #темп обучения = 0.1  создание нейросети\n",
    "    tf.reset_default_graph() # сбрасывает глобальный график по умолчанию\n",
    "    \n",
    "    net = tflearn.input_data([None, VOCAB_SIZE]) #заполняет данные сети\n",
    "    net = tflearn.fully_connected(net, 125, activation='ReLU') #видимо 125 нейронов rectified linear unit (ReLU)\n",
    "    net = tflearn.fully_connected(net, 25, activation='ReLU') # f(x) = ln(1+exp(x)) или что-то типо такого\n",
    "    net = tflearn.fully_connected(net, 2, activation='softmax') #softmax function обобщение и бинарный вывод\n",
    "    regression = tflearn.regression( # определяем регрессию\n",
    "        net, #сеть наша\n",
    "        optimizer='sgd', \n",
    "        '''Stochastic gradient descent optimizer.\n",
    "        Оптимизатор стохастического градиентного спуска.\n",
    "Включает поддержку импульса, разрыва скорости обучения и импульса Нестерова.'''\n",
    "        learning_rate=learning_rate, #присваиваем темп обучения\n",
    "        loss='categorical_crossentropy')\n",
    "    '''В теории информации перекрёстная энтропия между двумя распределениями \n",
    "    вероятностей измеряет среднее число бит, \n",
    "    необходимых для опознания события из набора возможностей'''\n",
    "    \n",
    "    model = tflearn.DNN(net) #Deep Neural Network\n",
    "    return model #возвращаем модель сети"
   ]
  },
  {
   "cell_type": "code",
   "execution_count": 29,
   "metadata": {
    "collapsed": true
   },
   "outputs": [],
   "source": [
    "model = build_model(learning_rate=0.75) #создаем модель"
   ]
  },
  {
   "cell_type": "code",
   "execution_count": 30,
   "metadata": {},
   "outputs": [
    {
     "name": "stdout",
     "output_type": "stream",
     "text": [
      "Training Step: 33509  | total loss: \u001b[1m\u001b[32m0.27954\u001b[0m\u001b[0m | time: 16.567s\n",
      "| SGD | epoch: 030 | loss: 0.27954 - acc: 0.9419 -- iter: 142848/142904\n",
      "Training Step: 33510  | total loss: \u001b[1m\u001b[32m0.26963\u001b[0m\u001b[0m | time: 17.970s\n",
      "| SGD | epoch: 030 | loss: 0.26963 - acc: 0.9399 | val_loss: 1.13499 - val_acc: 0.6951 -- iter: 142904/142904\n",
      "--\n"
     ]
    }
   ],
   "source": [
    "model.fit( #тренируем\n",
    "    X_train, #инпуты - входящий поток\n",
    "    y_train, #цели\n",
    "    validation_set=0.1, #проверка обученной модели\n",
    "    show_metric=True, #показываем измерения\n",
    "    batch_size=128, #размер партии учебных материалов в одной итерации\n",
    "    n_epoch=30) #эпоха - круг прогона"
   ]
  },
  {
   "cell_type": "markdown",
   "metadata": {},
   "source": [
    "# Testing"
   ]
  },
  {
   "cell_type": "code",
   "execution_count": 31,
   "metadata": {},
   "outputs": [
    {
     "name": "stdout",
     "output_type": "stream",
     "text": [
      "Accuracy:  0.691848760488\n"
     ]
    }
   ],
   "source": [
    "predictions = (np.array(model.predict(X_test))[:,0] >= 0.5).astype(np.int_) \n",
    "'''тестируем сеть // предсказания для нулевого столбца'''\n",
    "accuracy = np.mean(predictions == y_test[:,0], axis=0) #выводим погрешность с 0 столбцом для теста\n",
    "print(\"Accuracy: \", accuracy) #точнее здесь выводим"
   ]
  },
  {
   "cell_type": "code",
   "execution_count": 33,
   "metadata": {
    "collapsed": true
   },
   "outputs": [],
   "source": [
    "def test_tweet(tweet): #проверяем твиты\n",
    "    tweet_vector = tweet_to_vector(tweet, True) #преобразовываем в вектора и показываем неизвестные\n",
    "    positive_prob = model.predict([tweet_vector])[0][1] #извлекаем результат\n",
    "    print('Original tweet: {}'.format(tweet))\n",
    "    print('P(positive) = {:.5f}. Result: '.format(positive_prob),  # 5 знаков после запятой\n",
    "          'Positive' if positive_prob > 0.5 else 'Negative')"
   ]
  },
  {
   "cell_type": "code",
   "execution_count": 34,
   "metadata": {
    "collapsed": true
   },
   "outputs": [],
   "source": [
    "def test_tweet_number(idx): #тестируем твит по индексу\n",
    "    test_tweet(tweets[idx])"
   ]
  },
  {
   "cell_type": "code",
   "execution_count": 36,
   "metadata": {},
   "outputs": [
    {
     "name": "stdout",
     "output_type": "stream",
     "text": [
      "Unknown token: обладает\n",
      "Unknown token: извлечь\n",
      "Unknown token: выгоду\n",
      "Original tweet: Он, якобы, обладает информацией, и может извлечь из нее выгоду. ::-) #RU_FF #FF_RU\n",
      "P(positive) = 0.63527. Result:  Positive\n"
     ]
    }
   ],
   "source": [
    "test_tweet_number(120705)"
   ]
  },
  {
   "cell_type": "markdown",
   "metadata": {},
   "source": [
    "# Real life testing"
   ]
  },
  {
   "cell_type": "code",
   "execution_count": 47,
   "metadata": {},
   "outputs": [
    {
     "name": "stdout",
     "output_type": "stream",
     "text": [
      "Unknown token: оштрафовали\n",
      "Original tweet: меня оштрафовали по дороге домой\n",
      "P(positive) = 0.00599. Result:  Negative\n",
      "---------\n"
     ]
    }
   ],
   "source": [
    "tweets_for_testing = [\n",
    "    \"меня оштрафовали по дороге домой\",\n",
    "    \"у меня хорошее настроение сегодня\"\n",
    "]\n",
    "for tweet in tweets_for_testing:\n",
    "    test_tweet(tweet) \n",
    "    print(\"---------\")"
   ]
  },
  {
   "cell_type": "markdown",
   "metadata": {},
   "source": [
    "# Links\n",
    "* [Скачать корпус твиттов](http://study.mokoron.com);\n",
    "* [Ю. В. Рубцова. Построение корпуса текстов для настройки тонового классификатора // Программные продукты и системы, 2015, №1(109), –С.72-78](http://www.swsys.ru/index.php?page=article&id=3962&lang=);"
   ]
  }
 ],
 "metadata": {
  "anaconda-cloud": {},
  "kernelspec": {
   "display_name": "Python 3",
   "language": "python",
   "name": "python3"
  },
  "language_info": {
   "codemirror_mode": {
    "name": "ipython",
    "version": 3
   },
   "file_extension": ".py",
   "mimetype": "text/x-python",
   "name": "python",
   "nbconvert_exporter": "python",
   "pygments_lexer": "ipython3",
   "version": "3.5.3"
  }
 },
 "nbformat": 4,
 "nbformat_minor": 2
}
